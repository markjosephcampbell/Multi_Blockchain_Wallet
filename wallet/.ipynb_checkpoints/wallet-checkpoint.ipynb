{
 "cells": [
  {
   "cell_type": "code",
   "execution_count": 18,
   "id": "a13adcaf",
   "metadata": {},
   "outputs": [],
   "source": [
    "# Import dependencies\n",
    "import subprocess\n",
    "import json\n",
    "import os\n",
    "import web3\n",
    "import bit\n",
    "from web3.middleware import geth_poa_middleware\n",
    "from dotenv import load_dotenv\n",
    "from web3.gas_strategies.time_based import medium_gas_price_strategy\n",
    "\n",
    "# Load and set environment variables\n",
    "load_dotenv()\n",
    "mnemonic=os.getenv('mnemonic')\n",
    "\n",
    "# Import constants.py and necessary functions from bit and web3\n",
    "from constants import *"
   ]
  },
  {
   "cell_type": "code",
   "execution_count": 30,
   "id": "77f4f1d1",
   "metadata": {},
   "outputs": [],
   "source": [
    "w3=web3.Web3(web3.Web3.HTTPProvider('http://127.0.0.1:8545'))\n",
    "w3.middleware_onion.inject(geth_poa_middleware, layer=0)\n",
    "w3.eth.set_gas_price_strategy(medium_gas_price_strategy)\n"
   ]
  },
  {
   "cell_type": "code",
   "execution_count": 31,
   "id": "caf58b3c",
   "metadata": {},
   "outputs": [],
   "source": [
    "# Create a function called `derive_wallets`\n",
    "def derive_wallets(coin):\n",
    "    command = ['./derive','--mnemonic=%s'%mnemonic, '--format=json', '--numderive=3','-g','--coin=%s'%coin]\n",
    "    p = subprocess.Popen(command, stdout=subprocess.PIPE)\n",
    "    output, err = p.communicate()\n",
    "    p_status = p.wait()\n",
    "    return json.loads(output)"
   ]
  },
  {
   "cell_type": "code",
   "execution_count": 32,
   "id": "57a582ff",
   "metadata": {},
   "outputs": [],
   "source": [
    "# Create a dictionary object called coins to store the output from `derive_wallets`.\n",
    "coins = {BTCTEST:derive_wallets(BTCTEST),ETH:derive_wallets(ETH)}"
   ]
  },
  {
   "cell_type": "code",
   "execution_count": 33,
   "id": "03eb9d00",
   "metadata": {},
   "outputs": [
    {
     "data": {
      "text/plain": [
       "{'btc-test': [{'path': \"m/44'/1'/0'/0/0\",\n",
       "   'address': 'mgoM8UQg4x4xqFKkggSHeCdL5PJ3VDaLYy',\n",
       "   'xprv': 'tprv8kWVs8gJEegZpqNK5HC1KDBBaTNKmAYJVbiRYadxCmMKEkcDPkjWc5EtMi2hK3z6oWuWzUMg2g31ea1n9Kq82JqeRrL88gtg66wvNFr28YS',\n",
       "   'xpub': 'tpubDHCY1YiYP2NEiJQ6xvrbicqJ9UtFvVjD4uKCq6gFd39i5Erz29Z6nZrkXqacPULTGvqGV9FemxfyjpZUKv1nPf2xB2qoeAePWNmb3BosW2Q',\n",
       "   'privkey': 'cPHEAg4rDAWw6z5kFAdv4t2EMobZTEvxbUiQ5DHXPxVgpNUomupP',\n",
       "   'pubkey': '028233763afe31c606859e6c9e08e9f05f5ebe40c51f5cc6880e4322aad3fb6102',\n",
       "   'pubkeyhash': '0e11d7bc50516dfe59dc9a0ec7a152781af2015b',\n",
       "   'index': 0},\n",
       "  {'path': \"m/44'/1'/0'/0/1\",\n",
       "   'address': 'mqMtUBqmZfw8orA6tsuPjyfFvLBT6HzvBk',\n",
       "   'xprv': 'tprv8kWVs8gJEegZryENjr3C7pRkYvRiLap1bD1waauNb8SYq1DRpBgKNpryyq9CPmikJzAkZ4KEzP6CcGveLp1Nu3zxdMv2P8GnG38Ua7Ug7iP',\n",
       "   'xpub': 'tpubDHCY1YiYP2NEkSGAdVhnXE5s7wweVuzvAWcis6wg1QEwfVUCSaVuZKUr9wmyHxxwR8hBvhPB5Kudg4qQHCshpYgp9FD9qFGbnjBzJxrnMEX',\n",
       "   'privkey': 'cRyiMzgVFYGsUwjEJ9YVnLCSCfpH669pU2AkhEMHXTgGJ39Kn8b1',\n",
       "   'pubkey': '025a0a53797e7872563f4e79c44e18151dbefa92f92116f9e04293121df3385eb1',\n",
       "   'pubkeyhash': '6bfa522cec3aa3ebd85be36b51c46790663a4df6',\n",
       "   'index': 1},\n",
       "  {'path': \"m/44'/1'/0'/0/2\",\n",
       "   'address': 'mwT8Y8M7TeFXhvVxQiFURWzuAQFfWhsXEt',\n",
       "   'xprv': 'tprv8kWVs8gJEegZvMdiW68Jgd6CtEeWZSsoqW7HYQ1MXwAjRx8wzm25vymQ21GAg8u6HeC3admnqHxj8R4y4JcwPDDJz9p94WRBuvzyFCWkReT',\n",
       "   'xpub': 'tpubDHCY1YiYP2NEopfWPjnu62kKTGASin4iQoi4pv3exCy8GSPid9qg7UPGC7Ma4Wt3dpzxPDDAQjp9WFqR3csH9pjC2uGfBhWoZiBfwvC7mQ7',\n",
       "   'privkey': 'cTWAgdFPNS2KTCexQ5BddRWYuxfwaJWV9sGw5Foj6B7MpbWSgyeZ',\n",
       "   'pubkey': '02405012fa1c343ed7ef54600a74657dbf9073e2b20ca580ec1846f2788fb7fcbd',\n",
       "   'pubkeyhash': 'aec8e6194c60712d2a7e310e643c051883993b4e',\n",
       "   'index': 2}],\n",
       " 'eth': [{'path': \"m/44'/60'/0'/0/0\",\n",
       "   'address': '0x8704f4862c63CB8eD68A6005B500c837E577D9E3',\n",
       "   'xprv': 'xprvA3CLNzskBMeJN9YuEicMZ9Cw1N2Ku9PScCbF79j8hssHCxceBexSiRQKS9MRQLPrjSkfUhXxuCdhQUi9PXHFKgGRqjQxZJChKVjnTVwf4CZ',\n",
       "   'xpub': 'xpub6GBgnWQe1jCbaddNLk9MvH9fZPrpJc7HyRWquY8kGDQG5kwnjCGhGDioHS9cCWyCzXUMpDzxRAAEHiYhKTutAoPgPjMMJbTgzQ2Y46azpbQ',\n",
       "   'privkey': '0x3615794b807a35a78d010703967742503c70dd6772bca3e8866734afc608d9be',\n",
       "   'pubkey': '031ea40b19516bcdb329757df8a5da9eb6cd6502a50d83bd4949ba310418e96c9d',\n",
       "   'pubkeyhash': '6cc00ee03771c1ce5c15ba51ca47e7df7df8d5a3',\n",
       "   'index': 0},\n",
       "  {'path': \"m/44'/60'/0'/0/1\",\n",
       "   'address': '0x788b1208BE95Ae12c2fC8468d205AdC497f0c195',\n",
       "   'xprv': 'xprvA3CLNzskBMeJPtEYwNYkMSzHbuzmKKCrAEdGaM5WWwd74kXeLnkk13BbFtMQ5v3wG1oz6gW8uhutwSc7zWu7TU7jwJcP9FRYKjkVT1aSJhW',\n",
       "   'xpub': 'xpub6GBgnWQe1jCbcNK23Q5kiaw29wqFimvhXTYsNjV85HA5wYrntL4zYqW57Bwnkn1APZmgKn2xyM7qoJgei8d7MhJJJJY2fexCjHRMEbEmrmu',\n",
       "   'privkey': '0x873521aa7730e5286efa7a4e16225fe5b5599f81199c64ea093c2e04fc89775c',\n",
       "   'pubkey': '03d8ad8c9e8f938d6e2bfb08b43b04c0d7b2bed56759d308f4d9a5316c7ee1f711',\n",
       "   'pubkeyhash': '258719554001d6ad1287ed168e53b3b0d9137c4a',\n",
       "   'index': 1},\n",
       "  {'path': \"m/44'/60'/0'/0/2\",\n",
       "   'address': '0x895B8DF4fAA200dbd3B4F7cFee3DC622796f8F4b',\n",
       "   'xprv': 'xprvA3CLNzskBMeJT5jEKVgpaY9UFZKKt6sALo9gMZtRM8u6FTuxt2TahfZpxSh3CEvAT28dJJke9r8gU5TpU5NdoP1m4F6UdDAMouYjZYjudvZ',\n",
       "   'xpub': 'xpub6GBgnWQe1jCbfZohRXDpwg6Cob9pHZb1i25H9xJ2uUS58GF7RZmqFTtJogJgw6a5KvpDBniAFNCMxaMPboDzkv1CCWkypWZiZSWnR1Zu19J',\n",
       "   'privkey': '0xea783ca59b50d851cd791caaa034d39fcfe7072898e9b59801d9a1ac37548e86',\n",
       "   'pubkey': '023004274ee0d63eaf5375982c30382d81188bf89a4f41679564ec27f099d729f4',\n",
       "   'pubkeyhash': 'ce0079254fa7a5176cbfd1d9cf15f0df96e355b0',\n",
       "   'index': 2}]}"
      ]
     },
     "execution_count": 33,
     "metadata": {},
     "output_type": "execute_result"
    }
   ],
   "source": [
    "coins"
   ]
  },
  {
   "cell_type": "code",
   "execution_count": 64,
   "id": "920d666b",
   "metadata": {},
   "outputs": [],
   "source": [
    "# Create a function called `priv_key_to_account` that converts privkey strings to account objects.\n",
    "def priv_key_to_account(coin, priv_key):\n",
    "    if coin == BTCTEST:\n",
    "        return bit.PrivateKeyTestnet(priv_key)\n",
    "    if coin == ETH:\n",
    "        return web3.eth.Account.privateKeyToAccount(priv_key)"
   ]
  },
  {
   "cell_type": "code",
   "execution_count": 65,
   "id": "eb6bd55f",
   "metadata": {},
   "outputs": [],
   "source": [
    "# Create a function called `create_tx` that creates an unsigned transaction appropriate metadata.\n",
    "def create_tx(coin, account, to, amount):\n",
    "    if coin == BTCTEST:\n",
    "        return bit.PrivateKeyTestnet.prepare_transaction(account, [(to, amount, BTC)])\n",
    "    if coin == ETH:\n",
    "        am = w3.toWei(amount, \"ether\")\n",
    "        gas_est = w3.eth.estimateGas({\"from\":account, \"to\":to, \"amount\":am})\n",
    "#         w3.middleware_onion.inject(geth_poa_middleware, layer=0)\n",
    "        #print(w3.isConnected())\n",
    "        return {'to': to,\n",
    "                'from': account,\n",
    "                'value': am,\n",
    "                'gas': gas_est,\n",
    "#                 'gasPrice': w3.eth.generateGasPrice(),\n",
    "                'gasPrice':250000,\n",
    "                'nonce': w3.eth.getTransactionCount(account),\n",
    "                'chainId': w3.eth.chain_id\n",
    "               }"
   ]
  },
  {
   "cell_type": "code",
   "execution_count": 66,
   "id": "3e4133c6",
   "metadata": {},
   "outputs": [],
   "source": [
    "# Create a function called `send_tx` that calls `create_tx`, signs and sends the transaction.\n",
    "def send_tx(coin, account, to, amount):\n",
    "\n",
    "    \n",
    "    if coin == BTCTEST:\n",
    "        rawtx = create_tx(coin, account, to, amount)\n",
    "        signed = account.signTransaction(rawtx)\n",
    "        return bit.network.NetworkAPI.broadcast_tx_testnet(signed)\n",
    "    if coin == ETH:\n",
    "        rawtx = create_tx(coin, account.address, to, amount)\n",
    "        signed = account.signTransaction(rawtx)\n",
    "        return w3.eth.sendRawTransaction(signed.rawTransaction)\n",
    "    "
   ]
  },
  {
   "cell_type": "code",
   "execution_count": 67,
   "id": "46b8668e",
   "metadata": {},
   "outputs": [
    {
     "data": {
      "text/plain": [
       "HexBytes('0x11f4d02be680c48216157c517a0e2235e8fb7aaa5b2efe57c3ef0eb417a8b820')"
      ]
     },
     "execution_count": 67,
     "metadata": {},
     "output_type": "execute_result"
    }
   ],
   "source": [
    "#print(priv_key_to_account(BTCTEST, coins[BTCTEST][0]['privkey']))\n",
    "#print(priv_key_to_account(ETH, coins[ETH][0]['privkey']))\n",
    "#privkey=(priv_key_to_account(BTCTEST, coins[BTCTEST][0]['privkey']))\n",
    "#print(create_tx(BTCTEST,privkey,'tb1qsgx55dp6gn53tsmyjjv4c2ye403hgxynxs0dnm',0.000001))\n",
    "#print(send_tx(BTCTEST,privkey,'tb1qsgx55dp6gn53tsmyjjv4c2ye403hgxynxs0dnm',0.000001))\n",
    "privkey=priv_key_to_account(ETH, coins[ETH][0]['privkey'])\n",
    "send_tx(ETH,privkey,'0x80464f155168FF5dAE6A41f4977C6794900DA5bb',2)"
   ]
  },
  {
   "cell_type": "code",
   "execution_count": null,
   "id": "86b51648",
   "metadata": {},
   "outputs": [],
   "source": []
  },
  {
   "cell_type": "code",
   "execution_count": null,
   "id": "680401a4",
   "metadata": {},
   "outputs": [],
   "source": []
  }
 ],
 "metadata": {
  "kernelspec": {
   "display_name": "Python 3",
   "language": "python",
   "name": "python3"
  },
  "language_info": {
   "codemirror_mode": {
    "name": "ipython",
    "version": 3
   },
   "file_extension": ".py",
   "mimetype": "text/x-python",
   "name": "python",
   "nbconvert_exporter": "python",
   "pygments_lexer": "ipython3",
   "version": "3.8.8"
  }
 },
 "nbformat": 4,
 "nbformat_minor": 5
}
